{
 "cells": [
  {
   "cell_type": "markdown",
   "id": "008a20df-8842-4a10-b171-5d99534f9d5b",
   "metadata": {},
   "source": [
    "# purpose: to edit the metadata of saildrone files, as non-intrusively as possible"
   ]
  },
  {
   "cell_type": "markdown",
   "id": "7afb66a7-9644-41a8-9b83-c0a7199d2d0a",
   "metadata": {},
   "source": [
    "this code:\\\n",
    "imports relevant packages\\\n",
    "defines a tictoc function\\\n",
    "specifies the mission and year. this code must be ran mission by mission and year by year\\\n",
    "reads in appropriate dictionaries\\\n",
    "presents the giant for loop that edits the metadata of each applicable saildrone file\\\n",
    "...this loop is different for files that already have keywords that we want to keep versus those that do not\\\n",
    "presents a small set of checks to make sure the code is running correctly"
   ]
  },
  {
   "cell_type": "code",
   "execution_count": 1,
   "id": "b6c5eee9-1ab7-43f4-a1d8-9ec3669774ad",
   "metadata": {},
   "outputs": [],
   "source": [
    "import netCDF4\n",
    "import h5py\n",
    "#import h5netcdf.legacyapi as netCDF4\n",
    "import numpy as np\n",
    "import xarray as xr\n",
    "import os\n",
    "import numpy as np\n",
    "from nco import Nco\n",
    "from nco.custom import Atted, Rename\n",
    "nco = Nco()\n",
    "from glob import glob\n",
    "import csv\n",
    "import datetime\n",
    "os.environ['HDF5_USE_FILE_LOCKING']='FALSE'\n"
   ]
  },
  {
   "cell_type": "markdown",
   "id": "50363fad-530d-4aff-a4bf-2b8da5b0a529",
   "metadata": {},
   "source": [
    "##### tictoc"
   ]
  },
  {
   "cell_type": "code",
   "execution_count": 2,
   "id": "f619a79c-ed39-4f13-88f4-0dc730be5061",
   "metadata": {},
   "outputs": [],
   "source": [
    "def tic():\n",
    "    #Homemade version of matlab tic and toc functions\n",
    "    import time\n",
    "    global startTime_for_tictoc\n",
    "    startTime_for_tictoc = time.time()\n",
    "\n",
    "def toc():\n",
    "    import time\n",
    "    if 'startTime_for_tictoc' in globals():\n",
    "        print (\"Elapsed time is \" + str(time.time() - startTime_for_tictoc) + \" seconds.\")\n",
    "    else:\n",
    "        print (\"Toc: start time not set\")"
   ]
  },
  {
   "cell_type": "markdown",
   "id": "72efb535-5712-4bdf-883d-4f27024d6da0",
   "metadata": {},
   "source": [
    "### read in dicts"
   ]
  },
  {
   "cell_type": "code",
   "execution_count": 3,
   "id": "9ab783a1-6e47-482c-a9a9-236ccb0cdfe3",
   "metadata": {},
   "outputs": [],
   "source": [
    "mission_name = 'tpos'#state the project\n",
    "year = '2018'#state the year"
   ]
  },
  {
   "cell_type": "code",
   "execution_count": 4,
   "id": "f9fb48fa-c6e4-42a1-8622-bb659fd4ddbc",
   "metadata": {},
   "outputs": [],
   "source": [
    "filedir = '/home/users/koukel/saildrone_metawork/'#the directory all metadata csvs are in\n",
    "filenam_static = 'saildronemeta_static.csv'#the csv for the static metadata\n",
    "filenam_untouched = 'saildronemeta_untouched.csv'#the csv for the changing metadata that are not edited\n",
    "filenam_changing = 'mission_csvs/saildronemeta_' + mission_name + '_' + year + '_changing.csv'#the csv for the particular mission and year\n",
    "filenam_wmo = 'saildronemeta_wmo_ids.csv'#the csv with the wmo_ids\n",
    "filenam_proj = 'saildronemeta_projectnames_missionnames.csv'#the csv with project_names and fancy Mission Names\n",
    "filenam_inst = 'saildronemeta_institutionnames.csv'\n",
    "\n",
    "reader_static = csv.reader(open(filedir + filenam_static))\n",
    "reader_untouched = csv.reader(open(filedir + filenam_untouched))\n",
    "reader_changing = csv.reader(open(filedir + filenam_changing))\n",
    "reader_wmo = csv.reader(open(filedir + filenam_wmo))\n",
    "reader_projnames = csv.reader(open(filedir + filenam_proj))\n",
    "reader_instnames = csv.reader(open(filedir + filenam_inst))"
   ]
  },
  {
   "cell_type": "code",
   "execution_count": 5,
   "id": "9a00553b-6f7f-48b8-9481-d3d5c45203f3",
   "metadata": {},
   "outputs": [],
   "source": [
    "static_metadata = {}\n",
    "for k, v in reader_static:\n",
    "    static_metadata[k] = v"
   ]
  },
  {
   "cell_type": "code",
   "execution_count": 6,
   "id": "f1166ba4-6e64-47f9-ac13-017e4773b945",
   "metadata": {
    "scrolled": true
   },
   "outputs": [
    {
     "data": {
      "text/plain": [
       "{'_NCProperties': 'version=2,netcdf=4.6.3,hdf5=1.10.2',\n",
       " 'cdm_data_type': 'Trajectory',\n",
       " 'cdm_trajectory_variables': 'trajectory',\n",
       " 'Conventions': 'CF-1.6, ACDD-1.3, COARDS',\n",
       " 'creator_email': 'support@saildrone.com, oar.pmel.data@noaa.gov',\n",
       " 'creator_type': 'Institution',\n",
       " 'description': 'Saildrone NetCDF Format',\n",
       " 'featureType': 'Trajectory',\n",
       " 'geospatial_lat_units': 'degrees_north',\n",
       " 'geospatial_lon_units': 'degrees_east',\n",
       " 'keywords_vocabulary': 'GCMD Science Keywords',\n",
       " 'license': 'These data were produced by NOAA and are not subject to copyright protection in the United States. NOAA waives any potential copyright and related rights in these data worldwide through the Creative Commons Zero 1.0 Universal Public Domain Dedication (CC0-1.0).',\n",
       " 'naming_authority': 'com.saildrone',\n",
       " 'ncei_template_version': 'NCEI_NetCDF_Trajectory_Template_v2.0',\n",
       " 'netcdf_version': '4.6.3',\n",
       " 'nodc_template_version': 'NODC_NetCDF_Trajectory_Template_v2.0',\n",
       " 'platform': 'Saildrone',\n",
       " 'publisher_email': 'oar.pmel.data@noaa.gov',\n",
       " 'sourceUrl': '(local files)',\n",
       " 'standard_name_vocabulary': 'CF Standard Name Table v58',\n",
       " 'subsetVariables': 'trajectory',\n",
       " 'testOutOfDate': 'now-2hours',\n",
       " 'time_coverage_duration': 'PT1H59M59S',\n",
       " 'time_coverage_resolution': 'PT1M'}"
      ]
     },
     "execution_count": 6,
     "metadata": {},
     "output_type": "execute_result"
    }
   ],
   "source": [
    "static_metadata"
   ]
  },
  {
   "cell_type": "code",
   "execution_count": 7,
   "id": "22fbd7f3-ccf3-4178-82e1-44bd46aa226d",
   "metadata": {},
   "outputs": [],
   "source": [
    "untouched_metadata = {}\n",
    "for k, v, j in reader_untouched:#j is third column but not read in\n",
    "    untouched_metadata[k] = v"
   ]
  },
  {
   "cell_type": "code",
   "execution_count": 8,
   "id": "9ee1af69-da8c-4ec6-8f9b-fb58d288eba6",
   "metadata": {},
   "outputs": [
    {
     "data": {
      "text/plain": [
       "{'data_mode': '',\n",
       " 'date_created': '',\n",
       " 'drone_id': '',\n",
       " 'id': '',\n",
       " 'geospatial_lat_max': '',\n",
       " 'geospatial_lat_min': '',\n",
       " 'geospatial_lon_max': '',\n",
       " 'geospatial_lon_min': '',\n",
       " 'time_coverage_end': '',\n",
       " 'time_coverage_start': ''}"
      ]
     },
     "execution_count": 8,
     "metadata": {},
     "output_type": "execute_result"
    }
   ],
   "source": [
    "untouched_metadata"
   ]
  },
  {
   "cell_type": "code",
   "execution_count": 9,
   "id": "ddeda378-d406-424b-805e-8b29737c03de",
   "metadata": {},
   "outputs": [],
   "source": [
    "geospatial_metadata = {'geospatial_lat_max':untouched_metadata['geospatial_lat_max'],'geospatial_lat_min':untouched_metadata['geospatial_lat_min'],\n",
    "                       'geospatial_lon_max':untouched_metadata['geospatial_lon_max'],'geospatial_lon_min':untouched_metadata['geospatial_lon_min'],\n",
    "                      }"
   ]
  },
  {
   "cell_type": "code",
   "execution_count": 10,
   "id": "b7ae5a89-f558-49d3-a67c-ec22d2d6cd1c",
   "metadata": {},
   "outputs": [
    {
     "data": {
      "text/plain": [
       "{'geospatial_lat_max': '',\n",
       " 'geospatial_lat_min': '',\n",
       " 'geospatial_lon_max': '',\n",
       " 'geospatial_lon_min': ''}"
      ]
     },
     "execution_count": 10,
     "metadata": {},
     "output_type": "execute_result"
    }
   ],
   "source": [
    "geospatial_metadata"
   ]
  },
  {
   "cell_type": "code",
   "execution_count": 11,
   "id": "82880296-d5b3-4ca3-b903-9fb6ec3ab831",
   "metadata": {
    "scrolled": true
   },
   "outputs": [],
   "source": [
    "changing_metadata = {}\n",
    "for k, v, j in reader_changing:\n",
    "    changing_metadata[k] = v"
   ]
  },
  {
   "cell_type": "code",
   "execution_count": 12,
   "id": "c9d18577-1cdf-449e-b45b-6606cd5fcfe4",
   "metadata": {
    "scrolled": true
   },
   "outputs": [
    {
     "data": {
      "text/plain": [
       "{'acknowledgement': 'If you use these data in publications or presentations, please acknowledge OCS at NOAA PMEL. Also, we would appreciate receiving a preprint and/or reprint of presentations and publications utilizing the data for inclusion in our bibliography. Relevant publications should be sent to: NOAA/PMEL OCS, 7600 Sand Point Way NE, Seattle, WA 98115 or emailed to: Meghan Cronin meghan.f.cronin@noaa.gov',\n",
       " 'area': 'Hawaii to 0N 140W and back',\n",
       " 'citation': 'Please cite Zhang et al. (2019) when using this dataset. Zhang, D., M.F. Cronin, C. Meinig, J.T. Farrar, R. Jenkins, D. Peacock, J. Keene, A. Sutton, and Q. Yang. 2019. Comparing air-sea flux measure-ments from a new unmanned surface vehicle and proven platforms during the SPURS-2 field campaign. Oceanography 32(2):122–133, https://doi.org/10.5670/oceanog.2019.220.',\n",
       " 'creator_institution': 'Saildrone Inc. and PMEL',\n",
       " 'creator_name': 'Saildrone and PMEL',\n",
       " 'creator_url': 'saildrone.com, pmel.noaa.gov',\n",
       " 'funding_source': 'NOAA/OAR/GOMO and NOAA/OMAO',\n",
       " 'infoUrl': 'pmel.noaa.gov',\n",
       " 'institution': 'NOAA Pacific Marine Environmental Laboratory',\n",
       " 'interval': '60',\n",
       " 'keywords': 'Central Pacific; Tropical Pacific; TPOS-2020; USV; Saildrone; solar irradiance; longwave radiation; air temperature; relative humidity; barometric pressure; SST; surface skin temperature; wind speed;  wind direction; seawater temperature; salinity; chlorophyll fluorescence; dissolved oxygen.',\n",
       " 'principal_investigator': 'Dr. Meghan F. Cronin; Dr. Dongxiao Zhang; Dr. Adrienne Sutton; Dr. Christian Meinig',\n",
       " 'principal_investigator_email': 'meghan.f.cronin@noaa.gov; dongxiao.zhang@noaa.gov; adrienne.sutton@noaa.gov; christian.meinig@noaa.gov ',\n",
       " 'principal_investigator_institution': 'NOAA PMEL',\n",
       " 'principal_investigator_url': 'https://pmel.noaa.gov',\n",
       " 'project': 'TPOS_2018',\n",
       " 'publisher_name': 'NOAA PMEL',\n",
       " 'publisher_url': 'pmel.noaa.gov',\n",
       " 'QC_manual': 'No QC performed',\n",
       " 'source': 'NOAA Saildrone Missions',\n",
       " 'summary': 'This file contains near-real time data from the Saildrone core sensors for the PMEL TPOS 2018 Mission (Mission 2) to the central equatorial Pacific (0, 140W). These data have not been QC?d.  This was the second of three missions funded by NOAA OAR/CPO/OOMD and NOAA/OMAO as a pilot study for the Tropical Pacific Observing System (TPOS)-2020 project. The PIs were Dr. Meghan Cronin (NOAA PMEL), Dr. Dongxiao Zhang (UW JISAO), Dr. Adrienne Sutton (NOAA PMEL), and Mr. Christian Meinig (NOAA PMEL). Mr. Nathan Anderson contributed to the metadata creation. PMEL TPOS 2018 Mission (aka Mission 2) had four Saildrones: SD1005 and SD1006 were Gen 4 drones, and SD1029 and SD1030 were Gen 5 drones equipped with a larger wing designed for equatorial work.  The drones were each equipped with full atmospheric and ocean core sensor suite, and an ADCP (not included in this file). SD1029 & SD1030 also carried shortwave and longwave radiation (included in core set) and an ASVCO2 carbon flux and pH system; these carbon data are served in a separate file. SD1029 had 3 strap-on SBE56 temperature sensors (at 0.35m, 1.16m, and 1.72m) to study the near-surface stratification. For the Gen5 drones, the core CTD was an RBR located in the flowthrough tunnel in the keel. The carbon system also had an independent prawler CTD that is higher quality than the RBR. The vehicles were deployed out of Honolulu, HI on October 3, 2018. After sailing near a PMEL Carbon mooring in Kaneohe Bay, HI, the drones proceeded to the TAO mooring at 9N, 140W. Three drones completed a circuit around the mooring, and then began their transit south towards the equator. Two drones made it to the equator and sailed near the TAO moorings at 0, 140W.  Navigation issues caused the mission to be aborted early (mid-December 2018), before further science tasks could be completed. Three Saildrones were recovered in Honolulu on 01-27-19. SD1030 was recovered in HI later in the spring of 2019.',\n",
       " 'time_in': 'seconds',\n",
       " 'title': 'NOAA PMEL TPOS 2018 Saildrone 1005',\n",
       " 'wmo_id': ''}"
      ]
     },
     "execution_count": 12,
     "metadata": {},
     "output_type": "execute_result"
    }
   ],
   "source": [
    "changing_metadata"
   ]
  },
  {
   "cell_type": "code",
   "execution_count": 13,
   "id": "acac88e2-baac-42d5-885a-322b618d73f6",
   "metadata": {},
   "outputs": [],
   "source": [
    "wmo_id_dict = {}\n",
    "for k, v in reader_wmo:\n",
    "    wmo_id_dict[k] = v"
   ]
  },
  {
   "cell_type": "code",
   "execution_count": 14,
   "id": "1c81feca-157e-42b2-8b86-15721e3d9acf",
   "metadata": {
    "scrolled": true
   },
   "outputs": [
    {
     "data": {
      "text/plain": [
       "{'1001': '4802011',\n",
       " '1002': '4802012',\n",
       " '1003': '4802013',\n",
       " '1005': '5801952',\n",
       " '1006': '5801953',\n",
       " '1020': '4803902',\n",
       " '1021': '4803903',\n",
       " '1022': '4803904',\n",
       " '1023': '4803905',\n",
       " '1024': '4803906',\n",
       " '1025': '4803907',\n",
       " '1026': '4803908',\n",
       " '1027': '4803909',\n",
       " '1028': '4803910',\n",
       " '1029': '5801954',\n",
       " '1030': '5801955',\n",
       " '1031': '1801556',\n",
       " '1032': '1801557',\n",
       " '1033': '4803911',\n",
       " '1034': '4803912',\n",
       " '1035': '4803913',\n",
       " '1036': '4803914',\n",
       " '1037': '4803915',\n",
       " '1040': '1801560',\n",
       " '1041': '4803916',\n",
       " '1042': '1801562',\n",
       " '1043': '1801563',\n",
       " '1045': '1801565',\n",
       " '1046': '1801566',\n",
       " '1048': '1801568',\n",
       " '1049': '1801569',\n",
       " '1052': '1801572',\n",
       " '1055': '1801575',\n",
       " '1057': '1801577',\n",
       " '1059': '1801579',\n",
       " '1060': '1801580',\n",
       " '1063': '1801583',\n",
       " '1064': '1801584',\n",
       " '1065': '1801585',\n",
       " '1066': '5801956',\n",
       " '1067': '5801957',\n",
       " '1068': '5801958',\n",
       " '1069': '5801959',\n",
       " '1078': '1801594',\n",
       " '1083': '1801599',\n",
       " '1084': '1801600'}"
      ]
     },
     "execution_count": 14,
     "metadata": {},
     "output_type": "execute_result"
    }
   ],
   "source": [
    "wmo_id_dict"
   ]
  },
  {
   "cell_type": "code",
   "execution_count": 15,
   "id": "b0c3dc89-32d7-46a7-b919-8f48bcae6a2d",
   "metadata": {},
   "outputs": [],
   "source": [
    "proj_names = {}\n",
    "for k, v in reader_projnames:\n",
    "    proj_names[k] = v"
   ]
  },
  {
   "cell_type": "code",
   "execution_count": 16,
   "id": "2b408391-c5da-491d-9f66-0896763b2aeb",
   "metadata": {},
   "outputs": [
    {
     "data": {
      "text/plain": [
       "{'1021_Atlantic': '1021 Atlantic',\n",
       " 'alaska': 'Alaska',\n",
       " 'antarctic_circumnavigation': 'Antarctic Circumnavigation',\n",
       " 'arctic': 'Arctic',\n",
       " 'arctic_single_beam': 'Arctic Single Beam',\n",
       " 'atlantic_to_med': 'Atlantic to Mediterranean',\n",
       " 'atomic_eurec4a': 'Atomic Eurec4a',\n",
       " 'bering_afsc_pollock_survey': 'Bering AFSC Pollock Survey',\n",
       " 'csiro': 'CSIRO',\n",
       " 'ecmwf_atlantic_gulf_stream': 'ECMWF Atlantic Gulf Stream',\n",
       " 'eurosea': 'Eurosea',\n",
       " 'farallones': 'Farallones',\n",
       " 'hawaiian_islands_ocean_chemistry': 'Hawaiian Islands Ocean Chemistry',\n",
       " 'hurricane_monitoring': 'Hurricane Monitoring',\n",
       " 'noaa_swfsc': 'NOAA SWFSC',\n",
       " 'nwfsc_hake_survey': 'NWFSC Hake Survey',\n",
       " 'shark': 'Shark',\n",
       " 'slush': 'Slush',\n",
       " 'tpos': 'TPOS',\n",
       " 'usn_tf59': 'USN TF59',\n",
       " 'uw_saildrone_forecasting_GTS': 'UW Saildrone Forecasting GTS',\n",
       " 'west_coast_survey': 'West Coast Survey'}"
      ]
     },
     "execution_count": 16,
     "metadata": {},
     "output_type": "execute_result"
    }
   ],
   "source": [
    "proj_names"
   ]
  },
  {
   "cell_type": "code",
   "execution_count": 17,
   "id": "0e267b3a-a067-4930-886f-5a9429d892ec",
   "metadata": {},
   "outputs": [],
   "source": [
    "inst_dict = {}\n",
    "for k, v in reader_instnames:\n",
    "    inst_dict[k] = v"
   ]
  },
  {
   "cell_type": "code",
   "execution_count": 18,
   "id": "83291056-5059-47d8-b2d3-6cc51a6b5520",
   "metadata": {
    "scrolled": true
   },
   "outputs": [
    {
     "data": {
      "text/plain": [
       "{'1021_Atlantic': '',\n",
       " 'alaska': 'NOAA PMEL',\n",
       " 'antarctic_circumnavigation': 'NOAA PMEL',\n",
       " 'arctic': 'NOAA PMEL',\n",
       " 'arctic_single_beam': 'NOAA NOS',\n",
       " 'atlantic_to_med': '',\n",
       " 'atomic_eurec4a': '',\n",
       " 'bering_afsc_pollock_survey': 'NOAA AFSC',\n",
       " 'csiro': '',\n",
       " 'ecmwf_atlantic_gulf_stream': 'ECMWF',\n",
       " 'eurosea': '',\n",
       " 'farallones': '',\n",
       " 'hawaiian_islands_ocean_chemistry': 'University of Hawaii',\n",
       " 'hurricane_monitoring': 'NOAA AOML PMEL',\n",
       " 'noaa_swfsc': 'NOAA SWFSC',\n",
       " 'nwfsc_hake_survey': 'NOAA NWFSC',\n",
       " 'shark': 'Saildrone',\n",
       " 'tpos': 'NOAA PMEL',\n",
       " 'usn_tf59': 'US Navy',\n",
       " 'uw_saildrone_forecasting_GTS': 'University of Washington',\n",
       " 'west_coast_survey': 'NOAA NWFSC'}"
      ]
     },
     "execution_count": 18,
     "metadata": {},
     "output_type": "execute_result"
    }
   ],
   "source": [
    "inst_dict"
   ]
  },
  {
   "cell_type": "code",
   "execution_count": 19,
   "id": "2f3249dc-a4e0-47ca-8305-68cd46e78801",
   "metadata": {},
   "outputs": [],
   "source": [
    "res_empty = {}"
   ]
  },
  {
   "cell_type": "markdown",
   "id": "573abb00-8419-45a9-9551-298c8fb5eaca",
   "metadata": {},
   "source": [
    "### if keywords exist, run this code:"
   ]
  },
  {
   "cell_type": "code",
   "execution_count": 20,
   "id": "0440af13-909e-49fc-a201-07549b9e978a",
   "metadata": {},
   "outputs": [
    {
     "name": "stdout",
     "output_type": "stream",
     "text": [
      "/home/mule-external/sci-dig/saildrone/tpos/2018/daily_files\n",
      "/home/mule-external/sci-dig/saildrone/tpos/2018/daily_files/1029\n",
      "/home/mule-external/sci-dig/saildrone/tpos/2018/daily_files/1005\n",
      "/home/mule-external/sci-dig/saildrone/tpos/2018/daily_files/1006\n",
      "/home/mule-external/sci-dig/saildrone/tpos/2018/daily_files/1030\n"
     ]
    }
   ],
   "source": [
    "#to check that the titling will work\n",
    "for root, dirs, files in os.walk('/home/mule-external/sci-dig/saildrone/' + mission_name + '/' + year + '/daily_files'):\n",
    "    print(root)"
   ]
  },
  {
   "cell_type": "code",
   "execution_count": null,
   "id": "5daebdf2-24b5-4adb-ae0a-3686d248bdb1",
   "metadata": {
    "scrolled": true
   },
   "outputs": [],
   "source": [
    "tic()\n",
    "directories = []\n",
    "\n",
    "#going file by file, choosing mission and year\n",
    "for root, dirs, files in os.walk('/home/mule-external/sci-dig/saildrone/' + mission_name + '/' + year + '/daily_files'):\n",
    "#for root, dirs, files in os.walk('/home/mule-external/sci-dig/saildrone/' + mission_name + '/' + year + '/daily_files/1060'):\n",
    "            \n",
    "    for file in files:\n",
    "        filenamen = os.path.join(root, file)\n",
    "\n",
    "        #to ensure only working with netcdfs\n",
    "        if file.endswith(\".nc\"):\n",
    "\n",
    "            try:\n",
    "    \n",
    "                #prints global attributes to a string\n",
    "                global_metadata = str(nco.ncks(input=filenamen, options=['-M']))\n",
    "\n",
    "                #editing title, which changes per drone\n",
    "                if root[-4] == '-':#to catch the drones with 3-number IDs\n",
    "                    drid = root[-3:]\n",
    "                else:\n",
    "                    drid = root[-4:]\n",
    "                changing_metadata['title']= str(changing_metadata['title'][:-4] + drid)\n",
    "                if ('ADCP' in root) or ('adcp' in root) and ('hz' in root):\n",
    "                    changing_metadata['title'] = str(inst_dict[mission_name] + ' ' + proj_names[mission_name] + ' ' + root.split('/')[6] + ' High Resolution ' + root.split('/')[-2] + ' ADCP Saildrone ' + drid)\n",
    "                elif ('ADCP' in root) or ('adcp' in root):\n",
    "                    changing_metadata['title'] = str(inst_dict[mission_name] + ' ' + proj_names[mission_name] + ' ' + root.split('/')[6] + ' ADCP Saildrone ' + drid)\n",
    "                if ('ek80' in root) or ('EK80' in root) or ('echosounder' in root) or ('Echosounder' in root):\n",
    "                    changing_metadata['title'] = str(inst_dict[mission_name] + ' ' + proj_names[mission_name] + ' ' + root.split('/')[6] + ' Echosounder Saildrone ' + drid)\n",
    "                if ('wave' in root) or ('wave_spectra' in root):\n",
    "                    changing_metadata['title'] = str(inst_dict[mission_name] + ' ' + proj_names[mission_name] + ' ' + root.split('/')[6] + ' Wave Data Saildrone ' + drid)\n",
    "                if 'sea-trial' in root:\n",
    "                    changing_metadata['title'] = str(inst_dict[mission_name] + ' ' + proj_names[mission_name] + ' ' + root.split('/')[6] + ' Sea Trial Saildrone ' + drid)\n",
    "                if ('daily_files' in root) or ('real-time' in root):\n",
    "                    changing_metadata['title'] = str(inst_dict[mission_name] + ' ' + proj_names[mission_name] + ' ' + root.split('/')[6] + ' NRT Saildrone ' + drid)\n",
    "                if 'hz' in root:\n",
    "                    changing_metadata['title'] = str(inst_dict[mission_name] + ' ' + proj_names[mission_name] + ' ' + root.split('/')[6] + ' High Resolution ' + root.split('/')[-2] + ' Saildrone ' + drid)\n",
    "                if 'hz' in changing_metadata['title']:\n",
    "                    changing_metadata['title'] = changing_metadata['title'].replace('hz','Hz')#this capitalizes Hz to the proper form\n",
    "                \n",
    "                #editing interval value\n",
    "                if ('hz' in root) or ('Hz' in root):\n",
    "                    changing_metadata['time_in'] = 'Hz'\n",
    "                    newint = file[int(file.find('hz')) - 2]\n",
    "                    if newint == '0': #if it's 10 or 20hz, add the tens digit to the zero\n",
    "                        newint = file[int(file.find('hz')) - 3] + file[int(file.find('hz')) - 2]\n",
    "                        changing_metadata['interval'] = newint\n",
    "                    else:\n",
    "                        changing_metadata['interval'] = newint\n",
    "                else: #if not high resolution, then select interval based on what's in the filename\n",
    "                    changing_metadata['time_in'] = 'seconds'\n",
    "                    newint = file[int(file.find('min')) - 2]\n",
    "                    if newint == '5': #if it's 5 that means 15 min\n",
    "                        if file[int(file.find('min')) - 3] == '1':#if 15 mins\n",
    "                            changing_metadata['interval'] = '900'#seconds\n",
    "                        else:#if 5 mins\n",
    "                            changing_metadata['interval'] = '300'#seconds        \n",
    "                    else: #otherwise take it for granted to be whatever single digit it says. should be 1 for 1 min\n",
    "                        changing_metadata['interval'] = '60'#seconds\n",
    "\n",
    "                #editing time_coverage_resolution\n",
    "                if (changing_metadata['interval'] == '60') and (changing_metadata['time_in'] == 'seconds'):\n",
    "                    static_metadata['time_coverage_resolution'] = 'PT1M'\n",
    "                elif (changing_metadata['interval'] == '300') and (changing_metadata['time_in'] == 'seconds'):\n",
    "                    static_metadata['time_coverage_resolution'] = 'PT5M'\n",
    "                elif (changing_metadata['interval'] == '900') and (changing_metadata['time_in'] == 'seconds'):\n",
    "                    static_metadata['time_coverage_resolution'] = 'PT15M'\n",
    "                elif (changing_metadata['interval'] == '1') and (changing_metadata['time_in'] == 'Hz'):\n",
    "                    static_metadata['time_coverage_resolution'] = 'PT1S'\n",
    "                elif (changing_metadata['interval'] == '2') and (changing_metadata['time_in'] == 'Hz'):\n",
    "                    static_metadata['time_coverage_resolution'] = 'PT0.2S'\n",
    "                elif (changing_metadata['interval'] == '4') and (changing_metadata['time_in'] == 'Hz'):\n",
    "                    static_metadata['time_coverage_resolution'] = 'PT0.25S'\n",
    "                elif (changing_metadata['interval'] == '10') and (changing_metadata['time_in'] == 'Hz'):\n",
    "                    static_metadata['time_coverage_resolution'] = 'PT0.1S'\n",
    "                elif (changing_metadata['interval'] == '20') and (changing_metadata['time_in'] == 'Hz'):\n",
    "                    static_metadata['time_coverage_resolution'] = 'PT0.05S'\n",
    "\n",
    "                #for loop for static global metadata attributes; overwrites all\n",
    "                for attr in static_metadata:\n",
    "                    #if loop to see if specific attribute exists within global metadata\n",
    "                    #if there, overwrite it\n",
    "                    if attr in global_metadata:\n",
    "                        nco.ncatted(input=filenamen, options=['-h',\n",
    "                            Atted(\n",
    "                                att_name=attr,\n",
    "                                var_name='global',\n",
    "                                mode='o',\n",
    "                                stype='c',\n",
    "                                value=static_metadata[attr])])                       \n",
    "                    #if not there, add it\n",
    "                    else:\n",
    "                        nco.ncatted(input=filenamen, options=['-h',\n",
    "                            Atted(\n",
    "                                att_name=attr,\n",
    "                                var_name='global',\n",
    "                                mode='c',\n",
    "                                stype='c',\n",
    "                                value=static_metadata[attr])])\n",
    "\n",
    "                ##if loop to overwrite trajectory variable attributes to be strings and not floats\n",
    "                #if (attr == 'cdm_trajectory_variables') or (attr == 'subsetVariables'):\n",
    "                #    nco.ncatted(input=filenamen, options=['-h',\n",
    "                #        Atted(\n",
    "                #            att_name=attr,\n",
    "                #           var_name='global',\n",
    "                #            mode='o',\n",
    "                #            stype='string',\n",
    "                #            value=static_metadata[attr])]) \n",
    "                \n",
    "                #if wmo_platform_code is there but wmo_id is not, rename it\n",
    "                if ('wmo_platform_code' in global_metadata) and ('wmo_id' not in global_metadata):\n",
    "                    nco.ncrename(input=filenamen, options=['-h',\n",
    "                                            Rename(\"a\",{'global@wmo_platform_code':'wmo_id'})])                \n",
    "                \n",
    "                #for loop for checking presence of changing global metadata attributes\n",
    "                for attr in changing_metadata:\n",
    "                    #if loop to see if specific attribute exists within global metadata\n",
    "                    #if there, let it be\n",
    "                    if attr in global_metadata:\n",
    "                        pass\n",
    "                    #if not there, add it\n",
    "                    else:\n",
    "                        nco.ncatted(input=filenamen, options=['-h',\n",
    "                            Atted(\n",
    "                                att_name=attr,\n",
    "                                var_name='global',\n",
    "                                mode='c',\n",
    "                                stype='c',\n",
    "                                value=changing_metadata[attr])])\n",
    "                \n",
    "                #for loop for changing incorrect specific global metadata attributes\n",
    "                for attr in changing_metadata:\n",
    "#                    loc_start = global_metadata.find(attr)\n",
    "#                    loc_is = loc_start + len(attr) + 4\n",
    "#                    loc_len = len(changing_metadata[attr])\n",
    "#                    #don't check wmo for accuracy\n",
    "                    if (attr == 'wmo_id') and (attr in global_metadata):\n",
    "                        pass\n",
    "                    elif (attr == 'wmo_id') and (attr not in global_metadata):\n",
    "                        nco.ncatted(input=filenamen, options=['-h',\n",
    "                            Atted(\n",
    "                                att_name=attr,\n",
    "                                var_name='global',\n",
    "                                mode='o',\n",
    "                                stype='c',\n",
    "                                value=wmo_id_dict[root[-4:]])])\n",
    "#                    #elif to see if specific attribute exists but is wrong, then change it\n",
    "#                    elif global_metadata[loc_is:loc_is + loc_len] == changing_metadata[attr]:\n",
    "#                        pass\n",
    "                    else:\n",
    "                        nco.ncatted(input=filenamen, options=['-h',\n",
    "                            Atted(\n",
    "                                att_name=attr,\n",
    "                                var_name='global',\n",
    "                                mode='o',\n",
    "                                stype='c',\n",
    "                                value=changing_metadata[attr])])\n",
    "                \n",
    "                #if there is a global attribute that should be removed, run the below code:\n",
    "                #if 'contributor_role' in global_metadata:\n",
    "                #    nco.ncatted(input=filenamen, options=['-h',\n",
    "                #        Atted(\n",
    "                #            att_name='contributor_role',\n",
    "                #            var_name='global',\n",
    "                #            mode='d')])\n",
    "                        \n",
    "                #checking if geospatial attributes are there and updating them if missing\n",
    "                x = 0\n",
    "                for gattr in geospatial_metadata:\n",
    "                    #if there, let it be\n",
    "                    if gattr in global_metadata:\n",
    "                        pass\n",
    "                    #if not there, add it\n",
    "                    else:\n",
    "                        fildata = xr.open_dataset(filenamen)\n",
    "                        geospatial_lat_min_val = np.min(fildata.latitude).values.tolist()\n",
    "                        geospatial_lat_max_val = np.max(fildata.latitude).values.tolist()\n",
    "                        geospatial_lon_min_val = np.min(fildata.longitude).values.tolist()\n",
    "                        geospatial_lon_max_val = np.max(fildata.longitude).values.tolist()\n",
    "                        geospatial_answers_list = [geospatial_lat_max_val,geospatial_lat_min_val,geospatial_lon_max_val,geospatial_lon_min_val]\n",
    "                        fildata.close()\n",
    "                        nco.ncatted(input=filenamen, options=['-h',\n",
    "                            Atted(\n",
    "                                att_name=gattr,\n",
    "                                var_name='global',\n",
    "                                mode='c',\n",
    "                                stype='c',\n",
    "                                value=geospatial_metadata[gattr]+str('_val'))])\n",
    "                    x += 1#counter to make this work in order\n",
    "              \n",
    "                #for loop for checking presence of unchanging untouched specific global metadata attributes\n",
    "                for attr in untouched_metadata:\n",
    "                    #if loop to see if specific attribute exists within global metadata\n",
    "                    #if there, let it be\n",
    "                    if attr in global_metadata:\n",
    "                        pass\n",
    "                    #if not there, add it\n",
    "                    else:\n",
    "                        untouched_metadata['date_created'] = datetime.datetime.now(datetime.UTC).isoformat(\"T\") + \"Z\" #date created\n",
    "                        untouched_metadata['drone_id'] = drid #drone id from root\n",
    "                        nco.ncatted(input=filenamen, options=['-h',\n",
    "                            Atted(\n",
    "                                att_name=attr,\n",
    "                                var_name='global',\n",
    "                                mode='c',\n",
    "                                stype='c',\n",
    "                                value=untouched_metadata[attr])])\n",
    "\n",
    "            #finishing out try-except, raising all exceptions\n",
    "            except Exception as err:\n",
    "                #save all empty files to directories and print out\n",
    "                directories.append(os.path.join(root, file))\n",
    "                print(err)\n",
    "\n",
    "res_empty[mission_name] = directories\n",
    "toc()"
   ]
  },
  {
   "cell_type": "markdown",
   "id": "ca102d53-d84b-48c7-ab18-2a08b07fdba6",
   "metadata": {},
   "source": [
    "## checks"
   ]
  },
  {
   "cell_type": "code",
   "execution_count": null,
   "id": "ce8acbcf-766c-429e-8682-7fc873eb788c",
   "metadata": {},
   "outputs": [],
   "source": [
    "root#to make sure the root is correct"
   ]
  },
  {
   "cell_type": "code",
   "execution_count": null,
   "id": "abb641e8-d792-40f7-a06d-b8a5327dec66",
   "metadata": {},
   "outputs": [],
   "source": [
    "filenamen#to check the last filename"
   ]
  },
  {
   "cell_type": "code",
   "execution_count": null,
   "id": "e8cfb1eb-7b68-426c-8f72-df4a9277ff84",
   "metadata": {
    "scrolled": true
   },
   "outputs": [],
   "source": [
    "res_empty[mission_name]#the empty files. check against the spreadsheet of empty files to make sure the amounts are the same"
   ]
  },
  {
   "cell_type": "code",
   "execution_count": null,
   "id": "059582e1-927d-4d7d-b40e-e22104c3431e",
   "metadata": {},
   "outputs": [],
   "source": [
    "len(res_empty[mission_name])"
   ]
  },
  {
   "cell_type": "markdown",
   "id": "de9d22ce-3588-4594-b165-4651fa4d6418",
   "metadata": {
    "jp-MarkdownHeadingCollapsed": true
   },
   "source": [
    "## changing one thing only"
   ]
  },
  {
   "cell_type": "code",
   "execution_count": 51,
   "id": "c2760c98-db86-4346-a01d-31e2191edaf0",
   "metadata": {},
   "outputs": [],
   "source": [
    "res_empty = {}"
   ]
  },
  {
   "cell_type": "code",
   "execution_count": 52,
   "id": "84afe154-f849-4c33-8d3a-a755c759715c",
   "metadata": {},
   "outputs": [],
   "source": [
    "mission_name = 'hurricane_monitoring'#state the project\n",
    "year = '2022'#state the year"
   ]
  },
  {
   "cell_type": "code",
   "execution_count": 53,
   "id": "47ac453c-c2b7-4bc9-8956-6ca7a755f829",
   "metadata": {},
   "outputs": [],
   "source": [
    "#make new update_metadata dict for specific attribute to change\n",
    "#update_metadata = {'principal_investigator' : 'names',\n",
    "#                   'principal_investigator_email' : 'emails'}\n",
    "#update_metadata = {'project' : 'hurricane_monitoring'}\n",
    "update_metadata = {\"contributor_name\" : \"Gregory Foltz, NOAA AOML (Co-Lead); Chidong Zhang, NOAA PMEL (Co-Lead); Andy Chiodi, NOAA PMEL/University of Washington; Calvin Mordy, NOAA PMEL/University of Washington; Catherine Edwards, Skidaway Institute of Oceanography, University of Georgia; Christian Meinig, NOAA PMEL; Dongxiao Zhang, NOAA PMEL/University of Washington; Edward (Ned) Cokelet, NOAA PMEL; Eugene Burger, NOAA PMEL; Francis Bringas, NOAA AOML; Gustavo Goni, NOAA AOML; Hristina G. Hristova, NOAA PMEL/University of Hawaii; Hyun-Sook Kim, NOAA AOML; Kathleen E. Bailey, U.S. Integrated Ocean Observing System; Kevin O'Brien, NOAA PMEL/University of Washington; Noah Lawrence-Slavas, NOAA PMEL; Joaquin Trinanes, NOAA AOML/University of Santiago, Spain; Jun Zhang, NOAA AOML/University of Miami; Lev Looney, NOAA AOML/University of Miami; Nan-Hsun Chi, NOAA PMEL; Hauke Schulz, NOAA PMEL/University of Washington; Brian D'Souza, University of Illinois at Urbana-Champaign (NOAA Lapenta Summer Intern); Colman Bashore, Middlebury College (NOAA Summer Intern); Shuichi Mori, JAMSTEC\"}"
   ]
  },
  {
   "cell_type": "code",
   "execution_count": 54,
   "id": "6b73155a-fec6-4671-b336-753ea6d09c09",
   "metadata": {},
   "outputs": [
    {
     "data": {
      "text/plain": [
       "{'contributor_name': \"Gregory Foltz, NOAA AOML (Co-Lead); Chidong Zhang, NOAA PMEL (Co-Lead); Andy Chiodi, NOAA PMEL/University of Washington; Calvin Mordy, NOAA PMEL/University of Washington; Catherine Edwards, Skidaway Institute of Oceanography, University of Georgia; Christian Meinig, NOAA PMEL; Dongxiao Zhang, NOAA PMEL/University of Washington; Edward (Ned) Cokelet, NOAA PMEL; Eugene Burger, NOAA PMEL; Francis Bringas, NOAA AOML; Gustavo Goni, NOAA AOML; Hristina G. Hristova, NOAA PMEL/University of Hawaii; Hyun-Sook Kim, NOAA AOML; Kathleen E. Bailey, U.S. Integrated Ocean Observing System; Kevin O'Brien, NOAA PMEL/University of Washington; Noah Lawrence-Slavas, NOAA PMEL; Joaquin Trinanes, NOAA AOML/University of Santiago, Spain; Jun Zhang, NOAA AOML/University of Miami; Lev Looney, NOAA AOML/University of Miami; Nan-Hsun Chi, NOAA PMEL; Hauke Schulz, NOAA PMEL/University of Washington; Brian D'Souza, University of Illinois at Urbana-Champaign (NOAA Lapenta Summer Intern); Colman Bashore, Middlebury College (NOAA Summer Intern); Shuichi Mori, JAMSTEC\"}"
      ]
     },
     "execution_count": 54,
     "metadata": {},
     "output_type": "execute_result"
    }
   ],
   "source": [
    "update_metadata"
   ]
  },
  {
   "cell_type": "code",
   "execution_count": 55,
   "id": "10b078a4-55af-4a73-b4b4-9d45d8d4afa3",
   "metadata": {},
   "outputs": [
    {
     "name": "stdout",
     "output_type": "stream",
     "text": [
      "/home/mule-external/sci-dig/saildrone/hurricane_monitoring/2022/high_res/1hz\n",
      "/home/mule-external/sci-dig/saildrone/hurricane_monitoring/2022/high_res/1hz/sd-1031\n",
      "/home/mule-external/sci-dig/saildrone/hurricane_monitoring/2022/high_res/1hz/sd-1032\n",
      "/home/mule-external/sci-dig/saildrone/hurricane_monitoring/2022/high_res/1hz/sd-1040\n",
      "/home/mule-external/sci-dig/saildrone/hurricane_monitoring/2022/high_res/1hz/sd-1059\n",
      "/home/mule-external/sci-dig/saildrone/hurricane_monitoring/2022/high_res/1hz/sd-1078\n",
      "/home/mule-external/sci-dig/saildrone/hurricane_monitoring/2022/high_res/1hz/sd-1083\n",
      "/home/mule-external/sci-dig/saildrone/hurricane_monitoring/2022/high_res/1hz/sd-1084\n"
     ]
    }
   ],
   "source": [
    "#to check that the titling will work\n",
    "for root, dirs, files in os.walk('/home/mule-external/sci-dig/saildrone/' + mission_name + '/' + year + '/high_res/1hz'):\n",
    "    print(root)"
   ]
  },
  {
   "cell_type": "code",
   "execution_count": 56,
   "id": "1d6d2935-7f56-4663-971a-50fcef73d3ee",
   "metadata": {
    "scrolled": true
   },
   "outputs": [
    {
     "name": "stdout",
     "output_type": "stream",
     "text": [
      "Elapsed time is 223.93584275245667 seconds.\n"
     ]
    }
   ],
   "source": [
    "tic()\n",
    "directories = []\n",
    "\n",
    "#going file by file, choosing mission and year\n",
    "for root, dirs, files in os.walk('/home/mule-external/sci-dig/saildrone/' + mission_name + '/' + year + '/high_res/1hz'):\n",
    "#for root, dirs, files in os.walk('/home/mule-external/sci-dig/saildrone/' + mission_name + '/' + year + '/daily_files/1060'):\n",
    "            \n",
    "    for file in files:\n",
    "        filenamen = os.path.join(root, file)\n",
    "        #print(filenamen)\n",
    "\n",
    "        #to ensure only working with netcdfs\n",
    "        if file.endswith(\".nc\"):\n",
    "\n",
    "            try:\n",
    "    \n",
    "                #prints global attributes to a string\n",
    "                global_metadata = str(nco.ncks(input=filenamen, options=['-M']))\n",
    "\n",
    "                #for loop for newly updated metadata attributes; overwrites all\n",
    "                for attr in update_metadata:\n",
    "                    #if loop to see if specific attribute exists within global metadata\n",
    "                    #if there, overwrite it\n",
    "                    if attr in global_metadata:\n",
    "                        nco.ncatted(input=filenamen, options=['-h',\n",
    "                            Atted(\n",
    "                                att_name=attr,\n",
    "                                var_name='global',\n",
    "                                mode='o',\n",
    "                                stype='c',\n",
    "                                value=update_metadata[attr])])                       \n",
    "                    #if not there, add it\n",
    "                    else:\n",
    "                        nco.ncatted(input=filenamen, options=['-h',\n",
    "                            Atted(\n",
    "                                att_name=attr,\n",
    "                                var_name='global',\n",
    "                                mode='c',\n",
    "                                stype='c',\n",
    "                                value=update_metadata[attr])])\n",
    "\n",
    "            #finishing out try-except, raising all exceptions\n",
    "            except Exception as err:\n",
    "                #save all empty files to directories and print out\n",
    "                directories.append(os.path.join(root, file))\n",
    "                print(err)\n",
    "\n",
    "res_empty[mission_name] = directories\n",
    "toc()"
   ]
  },
  {
   "cell_type": "markdown",
   "id": "930c76f8-7a27-4fb7-a6df-a8bf6e061597",
   "metadata": {},
   "source": [
    "### checks"
   ]
  },
  {
   "cell_type": "code",
   "execution_count": 57,
   "id": "96d36d13-cc37-4e1b-b461-15a0afe1b6a7",
   "metadata": {},
   "outputs": [
    {
     "data": {
      "text/plain": [
       "'/home/mule-external/sci-dig/saildrone/hurricane_monitoring/2022/high_res/1hz/sd-1084'"
      ]
     },
     "execution_count": 57,
     "metadata": {},
     "output_type": "execute_result"
    }
   ],
   "source": [
    "root#to make sure the root is correct"
   ]
  },
  {
   "cell_type": "code",
   "execution_count": 58,
   "id": "ccbfd4c4-cb2e-4211-821b-69a21316fbb6",
   "metadata": {},
   "outputs": [
    {
     "data": {
      "text/plain": [
       "'/home/mule-external/sci-dig/saildrone/hurricane_monitoring/2022/high_res/1hz/sd-1084/saildrone-gen_6-2022_atlantic_hurricane_mission_-sd1084-20220914T000000-20220914T235959-1_hz-v1.1672941953135.nc'"
      ]
     },
     "execution_count": 58,
     "metadata": {},
     "output_type": "execute_result"
    }
   ],
   "source": [
    "filenamen#to check the last filename"
   ]
  },
  {
   "cell_type": "code",
   "execution_count": 59,
   "id": "2e60ece6-8594-45e4-9cf5-b1180b108811",
   "metadata": {
    "scrolled": true
   },
   "outputs": [
    {
     "data": {
      "text/plain": [
       "[]"
      ]
     },
     "execution_count": 59,
     "metadata": {},
     "output_type": "execute_result"
    }
   ],
   "source": [
    "res_empty[mission_name]#the empty files. check against the spreadsheet of empty files to make sure the amounts are the same"
   ]
  },
  {
   "cell_type": "code",
   "execution_count": 60,
   "id": "aec54e10-9e87-4c79-80d2-537f28cda060",
   "metadata": {},
   "outputs": [
    {
     "data": {
      "text/plain": [
       "0"
      ]
     },
     "execution_count": 60,
     "metadata": {},
     "output_type": "execute_result"
    }
   ],
   "source": [
    "len(res_empty[mission_name])"
   ]
  },
  {
   "cell_type": "code",
   "execution_count": null,
   "id": "7ee3662d-fdf1-48fb-b2cf-bce752fa6ff5",
   "metadata": {},
   "outputs": [],
   "source": []
  }
 ],
 "metadata": {
  "kernelspec": {
   "display_name": "Python 3 (ipykernel)",
   "language": "python",
   "name": "python3"
  },
  "language_info": {
   "codemirror_mode": {
    "name": "ipython",
    "version": 3
   },
   "file_extension": ".py",
   "mimetype": "text/x-python",
   "name": "python",
   "nbconvert_exporter": "python",
   "pygments_lexer": "ipython3",
   "version": "3.12.2"
  }
 },
 "nbformat": 4,
 "nbformat_minor": 5
}
